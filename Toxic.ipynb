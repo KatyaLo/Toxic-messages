{
 "cells": [
  {
   "cell_type": "code",
   "execution_count": 1,
   "metadata": {},
   "outputs": [],
   "source": [
    "import pandas as pd\n",
    "import numpy as np\n",
    "\n",
    "from nltk.corpus import wordnet\n",
    "from nltk.stem.wordnet import WordNetLemmatizer\n",
    "from nltk import word_tokenize, pos_tag\n",
    "from nltk.tokenize import sent_tokenize, word_tokenize\n",
    "from nltk.corpus import stopwords\n",
    "\n",
    "import string\n",
    "from re import search\n",
    "\n",
    "from sklearn.feature_extraction.text import TfidfVectorizer\n",
    "from sklearn.model_selection import train_test_split\n",
    "\n",
    "from sklearn.metrics import f1_score\n",
    "from sklearn.metrics import roc_curve\n",
    "from sklearn.metrics import roc_auc_score\n",
    "\n",
    "import pickle\n",
    "\n",
    "import matplotlib.pyplot as plt\n",
    "%matplotlib inline"
   ]
  },
  {
   "cell_type": "code",
   "execution_count": 2,
   "metadata": {},
   "outputs": [
    {
     "name": "stderr",
     "output_type": "stream",
     "text": [
      "[nltk_data] Downloading package stopwords to\n",
      "[nltk_data]     /Users/ekaterinalozovaya/nltk_data...\n",
      "[nltk_data]   Package stopwords is already up-to-date!\n",
      "[nltk_data] Downloading package punkt to\n",
      "[nltk_data]     /Users/ekaterinalozovaya/nltk_data...\n",
      "[nltk_data]   Package punkt is already up-to-date!\n",
      "[nltk_data] Downloading package wordnet to\n",
      "[nltk_data]     /Users/ekaterinalozovaya/nltk_data...\n",
      "[nltk_data]   Package wordnet is already up-to-date!\n"
     ]
    },
    {
     "data": {
      "text/plain": [
       "True"
      ]
     },
     "execution_count": 2,
     "metadata": {},
     "output_type": "execute_result"
    }
   ],
   "source": [
    "import nltk\n",
    "nltk.download('stopwords')\n",
    "nltk.download('punkt')\n",
    "nltk.download('wordnet')"
   ]
  },
  {
   "cell_type": "markdown",
   "metadata": {},
   "source": [
    "# 1. Подготовка данных\n",
    "## 1.1 Добавление целевого вектора"
   ]
  },
  {
   "cell_type": "code",
   "execution_count": 3,
   "metadata": {},
   "outputs": [
    {
     "data": {
      "text/html": [
       "<div>\n",
       "<style scoped>\n",
       "    .dataframe tbody tr th:only-of-type {\n",
       "        vertical-align: middle;\n",
       "    }\n",
       "\n",
       "    .dataframe tbody tr th {\n",
       "        vertical-align: top;\n",
       "    }\n",
       "\n",
       "    .dataframe thead th {\n",
       "        text-align: right;\n",
       "    }\n",
       "</style>\n",
       "<table border=\"1\" class=\"dataframe\">\n",
       "  <thead>\n",
       "    <tr style=\"text-align: right;\">\n",
       "      <th></th>\n",
       "      <th>id</th>\n",
       "      <th>comment_text</th>\n",
       "      <th>toxic</th>\n",
       "      <th>severe_toxic</th>\n",
       "      <th>obscene</th>\n",
       "      <th>threat</th>\n",
       "      <th>insult</th>\n",
       "      <th>identity_hate</th>\n",
       "    </tr>\n",
       "  </thead>\n",
       "  <tbody>\n",
       "    <tr>\n",
       "      <th>0</th>\n",
       "      <td>0000997932d777bf</td>\n",
       "      <td>Explanation\\nWhy the edits made under my usern...</td>\n",
       "      <td>0</td>\n",
       "      <td>0</td>\n",
       "      <td>0</td>\n",
       "      <td>0</td>\n",
       "      <td>0</td>\n",
       "      <td>0</td>\n",
       "    </tr>\n",
       "    <tr>\n",
       "      <th>1</th>\n",
       "      <td>000103f0d9cfb60f</td>\n",
       "      <td>D'aww! He matches this background colour I'm s...</td>\n",
       "      <td>0</td>\n",
       "      <td>0</td>\n",
       "      <td>0</td>\n",
       "      <td>0</td>\n",
       "      <td>0</td>\n",
       "      <td>0</td>\n",
       "    </tr>\n",
       "    <tr>\n",
       "      <th>2</th>\n",
       "      <td>000113f07ec002fd</td>\n",
       "      <td>Hey man, I'm really not trying to edit war. It...</td>\n",
       "      <td>0</td>\n",
       "      <td>0</td>\n",
       "      <td>0</td>\n",
       "      <td>0</td>\n",
       "      <td>0</td>\n",
       "      <td>0</td>\n",
       "    </tr>\n",
       "    <tr>\n",
       "      <th>3</th>\n",
       "      <td>0001b41b1c6bb37e</td>\n",
       "      <td>\"\\nMore\\nI can't make any real suggestions on ...</td>\n",
       "      <td>0</td>\n",
       "      <td>0</td>\n",
       "      <td>0</td>\n",
       "      <td>0</td>\n",
       "      <td>0</td>\n",
       "      <td>0</td>\n",
       "    </tr>\n",
       "    <tr>\n",
       "      <th>4</th>\n",
       "      <td>0001d958c54c6e35</td>\n",
       "      <td>You, sir, are my hero. Any chance you remember...</td>\n",
       "      <td>0</td>\n",
       "      <td>0</td>\n",
       "      <td>0</td>\n",
       "      <td>0</td>\n",
       "      <td>0</td>\n",
       "      <td>0</td>\n",
       "    </tr>\n",
       "    <tr>\n",
       "      <th>5</th>\n",
       "      <td>00025465d4725e87</td>\n",
       "      <td>\"\\n\\nCongratulations from me as well, use the ...</td>\n",
       "      <td>0</td>\n",
       "      <td>0</td>\n",
       "      <td>0</td>\n",
       "      <td>0</td>\n",
       "      <td>0</td>\n",
       "      <td>0</td>\n",
       "    </tr>\n",
       "    <tr>\n",
       "      <th>6</th>\n",
       "      <td>0002bcb3da6cb337</td>\n",
       "      <td>COCKSUCKER BEFORE YOU PISS AROUND ON MY WORK</td>\n",
       "      <td>1</td>\n",
       "      <td>1</td>\n",
       "      <td>1</td>\n",
       "      <td>0</td>\n",
       "      <td>1</td>\n",
       "      <td>0</td>\n",
       "    </tr>\n",
       "  </tbody>\n",
       "</table>\n",
       "</div>"
      ],
      "text/plain": [
       "                 id                                       comment_text  toxic  \\\n",
       "0  0000997932d777bf  Explanation\\nWhy the edits made under my usern...      0   \n",
       "1  000103f0d9cfb60f  D'aww! He matches this background colour I'm s...      0   \n",
       "2  000113f07ec002fd  Hey man, I'm really not trying to edit war. It...      0   \n",
       "3  0001b41b1c6bb37e  \"\\nMore\\nI can't make any real suggestions on ...      0   \n",
       "4  0001d958c54c6e35  You, sir, are my hero. Any chance you remember...      0   \n",
       "5  00025465d4725e87  \"\\n\\nCongratulations from me as well, use the ...      0   \n",
       "6  0002bcb3da6cb337       COCKSUCKER BEFORE YOU PISS AROUND ON MY WORK      1   \n",
       "\n",
       "   severe_toxic  obscene  threat  insult  identity_hate  \n",
       "0             0        0       0       0              0  \n",
       "1             0        0       0       0              0  \n",
       "2             0        0       0       0              0  \n",
       "3             0        0       0       0              0  \n",
       "4             0        0       0       0              0  \n",
       "5             0        0       0       0              0  \n",
       "6             1        1       0       1              0  "
      ]
     },
     "execution_count": 3,
     "metadata": {},
     "output_type": "execute_result"
    }
   ],
   "source": [
    "df =  pd.read_csv('train.csv')\n",
    "df.head(7)"
   ]
  },
  {
   "cell_type": "code",
   "execution_count": 4,
   "metadata": {},
   "outputs": [
    {
     "name": "stdout",
     "output_type": "stream",
     "text": [
      "<class 'pandas.core.frame.DataFrame'>\n",
      "RangeIndex: 159571 entries, 0 to 159570\n",
      "Data columns (total 8 columns):\n",
      " #   Column         Non-Null Count   Dtype \n",
      "---  ------         --------------   ----- \n",
      " 0   id             159571 non-null  object\n",
      " 1   comment_text   159571 non-null  object\n",
      " 2   toxic          159571 non-null  int64 \n",
      " 3   severe_toxic   159571 non-null  int64 \n",
      " 4   obscene        159571 non-null  int64 \n",
      " 5   threat         159571 non-null  int64 \n",
      " 6   insult         159571 non-null  int64 \n",
      " 7   identity_hate  159571 non-null  int64 \n",
      "dtypes: int64(6), object(2)\n",
      "memory usage: 9.7+ MB\n"
     ]
    }
   ],
   "source": [
    "df.info()"
   ]
  },
  {
   "cell_type": "code",
   "execution_count": 5,
   "metadata": {},
   "outputs": [
    {
     "data": {
      "text/html": [
       "<div>\n",
       "<style scoped>\n",
       "    .dataframe tbody tr th:only-of-type {\n",
       "        vertical-align: middle;\n",
       "    }\n",
       "\n",
       "    .dataframe tbody tr th {\n",
       "        vertical-align: top;\n",
       "    }\n",
       "\n",
       "    .dataframe thead th {\n",
       "        text-align: right;\n",
       "    }\n",
       "</style>\n",
       "<table border=\"1\" class=\"dataframe\">\n",
       "  <thead>\n",
       "    <tr style=\"text-align: right;\">\n",
       "      <th></th>\n",
       "      <th>comment_text</th>\n",
       "      <th>target</th>\n",
       "    </tr>\n",
       "  </thead>\n",
       "  <tbody>\n",
       "    <tr>\n",
       "      <th>0</th>\n",
       "      <td>Explanation\\nWhy the edits made under my usern...</td>\n",
       "      <td>0</td>\n",
       "    </tr>\n",
       "    <tr>\n",
       "      <th>1</th>\n",
       "      <td>D'aww! He matches this background colour I'm s...</td>\n",
       "      <td>0</td>\n",
       "    </tr>\n",
       "    <tr>\n",
       "      <th>2</th>\n",
       "      <td>Hey man, I'm really not trying to edit war. It...</td>\n",
       "      <td>0</td>\n",
       "    </tr>\n",
       "    <tr>\n",
       "      <th>3</th>\n",
       "      <td>\"\\nMore\\nI can't make any real suggestions on ...</td>\n",
       "      <td>0</td>\n",
       "    </tr>\n",
       "    <tr>\n",
       "      <th>4</th>\n",
       "      <td>You, sir, are my hero. Any chance you remember...</td>\n",
       "      <td>0</td>\n",
       "    </tr>\n",
       "    <tr>\n",
       "      <th>5</th>\n",
       "      <td>\"\\n\\nCongratulations from me as well, use the ...</td>\n",
       "      <td>0</td>\n",
       "    </tr>\n",
       "    <tr>\n",
       "      <th>6</th>\n",
       "      <td>COCKSUCKER BEFORE YOU PISS AROUND ON MY WORK</td>\n",
       "      <td>1</td>\n",
       "    </tr>\n",
       "  </tbody>\n",
       "</table>\n",
       "</div>"
      ],
      "text/plain": [
       "                                        comment_text  target\n",
       "0  Explanation\\nWhy the edits made under my usern...       0\n",
       "1  D'aww! He matches this background colour I'm s...       0\n",
       "2  Hey man, I'm really not trying to edit war. It...       0\n",
       "3  \"\\nMore\\nI can't make any real suggestions on ...       0\n",
       "4  You, sir, are my hero. Any chance you remember...       0\n",
       "5  \"\\n\\nCongratulations from me as well, use the ...       0\n",
       "6       COCKSUCKER BEFORE YOU PISS AROUND ON MY WORK       1"
      ]
     },
     "execution_count": 5,
     "metadata": {},
     "output_type": "execute_result"
    }
   ],
   "source": [
    "df['target'] = df[['toxic','severe_toxic','obscene','threat', 'insult', 'identity_hate']].max(axis=1)\n",
    "df.drop(['id', 'toxic', 'severe_toxic', 'obscene', 'threat', 'insult', 'identity_hate'], axis=1, inplace=True)\n",
    "df.head(7)"
   ]
  },
  {
   "cell_type": "code",
   "execution_count": 6,
   "metadata": {},
   "outputs": [
    {
     "name": "stdout",
     "output_type": "stream",
     "text": [
      "toxic_ratio comments: 10.17%\n"
     ]
    }
   ],
   "source": [
    "toxic_ratio = df.target.sum() / df.shape[0]\n",
    "\n",
    "print(f'toxic_ratio comments: {toxic_ratio * 100:.2f}%')"
   ]
  },
  {
   "cell_type": "markdown",
   "metadata": {},
   "source": [
    "## 1.2 Лематизация комментариев"
   ]
  },
  {
   "cell_type": "code",
   "execution_count": 7,
   "metadata": {},
   "outputs": [],
   "source": [
    "# Определенте стоп слов\n",
    "stop_words = set(stopwords.words('english'))\n",
    "\n",
    "#Определение словаря знаков препинания \n",
    "punctuation = string.punctuation \n",
    "\n",
    "#Определение функций ламматизатора\n",
    "wordnet_lemmatizer = WordNetLemmatizer()"
   ]
  },
  {
   "cell_type": "code",
   "execution_count": 8,
   "metadata": {},
   "outputs": [],
   "source": [
    "#Функцция лемматизаций\n",
    "def tokenizer(text):\n",
    "    tokens = [ word for sent in sent_tokenize(text) for word in word_tokenize(sent)]\n",
    "    # Фильтр знаков припенания и стоп-слов\n",
    "    tokens = list(filter(lambda t: t not in punctuation and t.lower() not in stop_words, tokens)) \n",
    "    filtered_tokens = [token for token in tokens if search('[a-zA-Z]', token)]\n",
    "    # Лемматизаци токенов\n",
    "    filtered_tokens = list(map(lambda token: wordnet_lemmatizer\n",
    "                               .lemmatize(token.lower()), \n",
    "                               filtered_tokens)) \n",
    "    # Фильтр знаков припенания\n",
    "    filtered_tokens = list(filter(lambda t: t not in punctuation, filtered_tokens)) \n",
    "    return ' '.join(filtered_tokens)"
   ]
  },
  {
   "cell_type": "code",
   "execution_count": 9,
   "metadata": {},
   "outputs": [
    {
     "name": "stdout",
     "output_type": "stream",
     "text": [
      "CPU times: user 2min 21s, sys: 340 ms, total: 2min 22s\n",
      "Wall time: 2min 22s\n"
     ]
    }
   ],
   "source": [
    "%%time\n",
    "# Применение лематизации тексту\n",
    "df['clean_comment_text'] = df['comment_text'].map(tokenizer) "
   ]
  },
  {
   "cell_type": "code",
   "execution_count": 10,
   "metadata": {
    "scrolled": true
   },
   "outputs": [
    {
     "data": {
      "text/html": [
       "<div>\n",
       "<style scoped>\n",
       "    .dataframe tbody tr th:only-of-type {\n",
       "        vertical-align: middle;\n",
       "    }\n",
       "\n",
       "    .dataframe tbody tr th {\n",
       "        vertical-align: top;\n",
       "    }\n",
       "\n",
       "    .dataframe thead th {\n",
       "        text-align: right;\n",
       "    }\n",
       "</style>\n",
       "<table border=\"1\" class=\"dataframe\">\n",
       "  <thead>\n",
       "    <tr style=\"text-align: right;\">\n",
       "      <th></th>\n",
       "      <th>comment_text</th>\n",
       "      <th>target</th>\n",
       "      <th>clean_comment_text</th>\n",
       "    </tr>\n",
       "  </thead>\n",
       "  <tbody>\n",
       "    <tr>\n",
       "      <th>0</th>\n",
       "      <td>Explanation\\nWhy the edits made under my usern...</td>\n",
       "      <td>0</td>\n",
       "      <td>explanation edits made username hardcore metal...</td>\n",
       "    </tr>\n",
       "    <tr>\n",
       "      <th>1</th>\n",
       "      <td>D'aww! He matches this background colour I'm s...</td>\n",
       "      <td>0</td>\n",
       "      <td>d'aww match background colour 'm seemingly stu...</td>\n",
       "    </tr>\n",
       "    <tr>\n",
       "      <th>2</th>\n",
       "      <td>Hey man, I'm really not trying to edit war. It...</td>\n",
       "      <td>0</td>\n",
       "      <td>hey man 'm really trying edit war 's guy const...</td>\n",
       "    </tr>\n",
       "    <tr>\n",
       "      <th>3</th>\n",
       "      <td>\"\\nMore\\nI can't make any real suggestions on ...</td>\n",
       "      <td>0</td>\n",
       "      <td>ca n't make real suggestion improvement wonder...</td>\n",
       "    </tr>\n",
       "    <tr>\n",
       "      <th>4</th>\n",
       "      <td>You, sir, are my hero. Any chance you remember...</td>\n",
       "      <td>0</td>\n",
       "      <td>sir hero chance remember page 's</td>\n",
       "    </tr>\n",
       "    <tr>\n",
       "      <th>5</th>\n",
       "      <td>\"\\n\\nCongratulations from me as well, use the ...</td>\n",
       "      <td>0</td>\n",
       "      <td>congratulation well use tool well talk</td>\n",
       "    </tr>\n",
       "    <tr>\n",
       "      <th>6</th>\n",
       "      <td>COCKSUCKER BEFORE YOU PISS AROUND ON MY WORK</td>\n",
       "      <td>1</td>\n",
       "      <td>cocksucker piss around work</td>\n",
       "    </tr>\n",
       "  </tbody>\n",
       "</table>\n",
       "</div>"
      ],
      "text/plain": [
       "                                        comment_text  target  \\\n",
       "0  Explanation\\nWhy the edits made under my usern...       0   \n",
       "1  D'aww! He matches this background colour I'm s...       0   \n",
       "2  Hey man, I'm really not trying to edit war. It...       0   \n",
       "3  \"\\nMore\\nI can't make any real suggestions on ...       0   \n",
       "4  You, sir, are my hero. Any chance you remember...       0   \n",
       "5  \"\\n\\nCongratulations from me as well, use the ...       0   \n",
       "6       COCKSUCKER BEFORE YOU PISS AROUND ON MY WORK       1   \n",
       "\n",
       "                                  clean_comment_text  \n",
       "0  explanation edits made username hardcore metal...  \n",
       "1  d'aww match background colour 'm seemingly stu...  \n",
       "2  hey man 'm really trying edit war 's guy const...  \n",
       "3  ca n't make real suggestion improvement wonder...  \n",
       "4                   sir hero chance remember page 's  \n",
       "5             congratulation well use tool well talk  \n",
       "6                        cocksucker piss around work  "
      ]
     },
     "execution_count": 10,
     "metadata": {},
     "output_type": "execute_result"
    }
   ],
   "source": [
    "df.head(7)"
   ]
  },
  {
   "cell_type": "markdown",
   "metadata": {},
   "source": [
    "## 1.3 Разбиение выборки на тренировачную, валидационную и тестовую"
   ]
  },
  {
   "cell_type": "code",
   "execution_count": 11,
   "metadata": {},
   "outputs": [],
   "source": [
    "df_train, df_test = train_test_split(df, test_size=0.1, shuffle=True)"
   ]
  },
  {
   "cell_type": "code",
   "execution_count": 12,
   "metadata": {},
   "outputs": [],
   "source": [
    "df_train, df_validate = train_test_split(df_train, test_size=0.2, shuffle=True)"
   ]
  },
  {
   "cell_type": "code",
   "execution_count": 13,
   "metadata": {},
   "outputs": [
    {
     "name": "stdout",
     "output_type": "stream",
     "text": [
      "(114890, 3) (28723, 3) (15958, 3)\n"
     ]
    }
   ],
   "source": [
    "print(df_train.shape, df_validate.shape, df_test.shape)"
   ]
  },
  {
   "cell_type": "markdown",
   "metadata": {},
   "source": [
    "## 1.4 Подготовка к обучению"
   ]
  },
  {
   "cell_type": "code",
   "execution_count": 14,
   "metadata": {},
   "outputs": [],
   "source": [
    "stopwords = set(stopwords.words('english'))\n",
    "vectorizer = TfidfVectorizer(stop_words=stopwords)"
   ]
  },
  {
   "cell_type": "code",
   "execution_count": 15,
   "metadata": {},
   "outputs": [],
   "source": [
    "def tf_idf(data, fit=0):\n",
    "    X = data['clean_comment_text'].values.astype('U')\n",
    "    if fit:\n",
    "        X = vectorizer.fit_transform(X)\n",
    "        pickle.dump(vectorizer, open(\"feature.pkl\", \"wb\"))\n",
    "    else:\n",
    "        X = vectorizer.transform(X)\n",
    "    \n",
    "    Y = data['target']\n",
    "    return X, Y"
   ]
  },
  {
   "cell_type": "code",
   "execution_count": 16,
   "metadata": {},
   "outputs": [],
   "source": [
    "train_X, train_Y = tf_idf(df_train, 1)"
   ]
  },
  {
   "cell_type": "code",
   "execution_count": 17,
   "metadata": {},
   "outputs": [],
   "source": [
    "validate_X, validate_Y = tf_idf(df_validate)"
   ]
  },
  {
   "cell_type": "code",
   "execution_count": 18,
   "metadata": {},
   "outputs": [],
   "source": [
    "test_X, test_Y = tf_idf(df_test)"
   ]
  },
  {
   "cell_type": "markdown",
   "metadata": {},
   "source": [
    "# 2. Обучение модели\n",
    "## 2.1 Логистическая регрессия"
   ]
  },
  {
   "cell_type": "code",
   "execution_count": 20,
   "metadata": {},
   "outputs": [],
   "source": [
    "from sklearn.linear_model import LogisticRegression"
   ]
  },
  {
   "cell_type": "markdown",
   "metadata": {},
   "source": [
    "### 2.1.1 Логистическая регрессия со стандартными параметрами"
   ]
  },
  {
   "cell_type": "code",
   "execution_count": 21,
   "metadata": {},
   "outputs": [
    {
     "name": "stdout",
     "output_type": "stream",
     "text": [
      "CPU times: user 23.5 s, sys: 3.16 s, total: 26.6 s\n",
      "Wall time: 4.02 s\n"
     ]
    },
    {
     "data": {
      "text/plain": [
       "LogisticRegression(max_iter=500)"
      ]
     },
     "execution_count": 21,
     "metadata": {},
     "output_type": "execute_result"
    }
   ],
   "source": [
    "%%time\n",
    "model = LogisticRegression(max_iter=500)\n",
    "model.fit(train_X, train_Y)"
   ]
  },
  {
   "cell_type": "code",
   "execution_count": 22,
   "metadata": {},
   "outputs": [],
   "source": [
    "validate_predict = model.predict(validate_X)"
   ]
  },
  {
   "cell_type": "code",
   "execution_count": 23,
   "metadata": {},
   "outputs": [
    {
     "data": {
      "text/plain": [
       "0.9552971486265363"
      ]
     },
     "execution_count": 23,
     "metadata": {},
     "output_type": "execute_result"
    }
   ],
   "source": [
    "model.score(validate_X, validate_Y)"
   ]
  },
  {
   "cell_type": "code",
   "execution_count": 24,
   "metadata": {},
   "outputs": [
    {
     "data": {
      "text/plain": [
       "0.7259923175416133"
      ]
     },
     "execution_count": 24,
     "metadata": {},
     "output_type": "execute_result"
    }
   ],
   "source": [
    "f1_score(validate_Y, validate_predict)"
   ]
  },
  {
   "cell_type": "code",
   "execution_count": 25,
   "metadata": {},
   "outputs": [],
   "source": [
    "def plot(scores, title, xlabel, ylabel):\n",
    "    plt.title(title)\n",
    "    plt.xlabel(xlabel)\n",
    "    plt.ylabel(ylabel)\n",
    "    \n",
    "    for column in scores.columns:\n",
    "        plt.plot(scores[column], marker='o')\n",
    "    plt.legend(scores.columns, loc='lower right')\n",
    "    plt.grid()\n",
    "    plt.show()"
   ]
  },
  {
   "cell_type": "code",
   "execution_count": 26,
   "metadata": {},
   "outputs": [],
   "source": [
    "def roc_plot(x, y):\n",
    "    plt.title('ROC')\n",
    "    plt.xlabel('False Positive Rate')\n",
    "    plt.ylabel('True Positive Rate')\n",
    "    \n",
    "    plt.plot(x, y, marker='o', color='crimson')\n",
    "    plt.grid()\n",
    "    plt.show()"
   ]
  },
  {
   "cell_type": "markdown",
   "metadata": {},
   "source": [
    "### 2.1.2 Логистическая регрессия с измененными параметрами"
   ]
  },
  {
   "cell_type": "code",
   "execution_count": 27,
   "metadata": {},
   "outputs": [
    {
     "name": "stdout",
     "output_type": "stream",
     "text": [
      "penalty = l1\n",
      "\n",
      "C = 0.01\n",
      "f1_score = 0.28\n",
      "roc_auc = 0.58\n",
      "\n",
      "C = 0.1\n",
      "f1_score = 0.65\n",
      "roc_auc = 0.75\n",
      "\n",
      "C = 1\n",
      "f1_score = 0.76\n",
      "roc_auc = 0.83\n",
      "\n",
      "C = 10\n",
      "f1_score = 0.77\n",
      "roc_auc = 0.85\n",
      "\n",
      "C = 100\n",
      "f1_score = 0.72\n",
      "roc_auc = 0.84\n",
      "\n",
      "---------------------\n",
      "penalty = l2\n",
      "\n",
      "C = 0.01\n",
      "f1_score = 0.07\n",
      "roc_auc = 0.52\n",
      "\n",
      "C = 0.1\n",
      "f1_score = 0.50\n",
      "roc_auc = 0.67\n",
      "\n",
      "C = 1\n",
      "f1_score = 0.73\n",
      "roc_auc = 0.80\n",
      "\n",
      "C = 10\n",
      "f1_score = 0.77\n",
      "roc_auc = 0.84\n",
      "\n",
      "C = 100\n",
      "f1_score = 0.75\n",
      "roc_auc = 0.84\n",
      "\n",
      "---------------------\n",
      "CPU times: user 29.1 s, sys: 2.5 s, total: 31.6 s\n",
      "Wall time: 15.8 s\n"
     ]
    }
   ],
   "source": [
    "%%time\n",
    "scores = pd.DataFrame(columns=['l1', 'l2'], index=range(-2, 3))\n",
    "roc_auc = pd.DataFrame(columns=['l1', 'l2'], index=range(-2, 3))\n",
    "for penalty in 'l1', 'l2':\n",
    "    print(f'penalty = {penalty}\\n')\n",
    "    for deg in range(-2, 3):\n",
    "        c = 10 ** deg\n",
    "        model = LogisticRegression(penalty=penalty, C=c, max_iter=1000, random_state=241, solver='liblinear')\n",
    "        model.fit(train_X, train_Y)\n",
    "        validate_predict = model.predict(validate_X)\n",
    "\n",
    "        score = f1_score(validate_Y, validate_predict)\n",
    "        scores.loc[deg, penalty] = score\n",
    "        \n",
    "        roc = roc_auc_score(validate_Y, validate_predict)\n",
    "        roc_auc.loc[deg, penalty] = roc\n",
    "\n",
    "        print(f'C = {c}')\n",
    "        print(f'f1_score = {score:.2f}')\n",
    "        print(f'roc_auc = {roc:.2f}')\n",
    "        print()\n",
    "    \n",
    "    print('---------------------')"
   ]
  },
  {
   "cell_type": "code",
   "execution_count": 28,
   "metadata": {
    "scrolled": true
   },
   "outputs": [
    {
     "data": {
      "image/png": "[encoded data removed]",
      "text/plain": [
       "<Figure size 432x288 with 1 Axes>"
      ]
     },
     "metadata": {
      "needs_background": "light"
     },
     "output_type": "display_data"
    }
   ],
   "source": [
    "plot(scores, 'LogReg f-мера', 'deg', 'score')"
   ]
  },
  {
   "cell_type": "code",
   "execution_count": 29,
   "metadata": {},
   "outputs": [
    {
     "data": {
      "image/png": "[encoded data removed]",
      "text/plain": [
       "<Figure size 432x288 with 1 Axes>"
      ]
     },
     "metadata": {
      "needs_background": "light"
     },
     "output_type": "display_data"
    }
   ],
   "source": [
    "plot(roc_auc, 'LogReg ROC-AUC', 'deg', 'score')"
   ]
  },
  {
   "cell_type": "code",
   "execution_count": 30,
   "metadata": {},
   "outputs": [],
   "source": [
    "best_model = LogisticRegression(penalty='l1', C=1, max_iter=1000, random_state=241, solver='liblinear')\n",
    "best_model.fit(train_X, train_Y)\n",
    "predict = best_model.predict(validate_X)"
   ]
  },
  {
   "cell_type": "code",
   "execution_count": 31,
   "metadata": {},
   "outputs": [],
   "source": [
    "fpr, tpr, _ = roc_curve(validate_Y, predict)"
   ]
  },
  {
   "cell_type": "code",
   "execution_count": 32,
   "metadata": {
    "scrolled": true
   },
   "outputs": [
    {
     "data": {
      "image/png": "[encoded data removed]",
      "text/plain": [
       "<Figure size 432x288 with 1 Axes>"
      ]
     },
     "metadata": {
      "needs_background": "light"
     },
     "output_type": "display_data"
    }
   ],
   "source": [
    "roc_plot(fpr, tpr)"
   ]
  },
  {
   "cell_type": "markdown",
   "metadata": {},
   "source": [
    "## 2.2 Деревья\n",
    "### 2.2.1 Решающее дерево"
   ]
  },
  {
   "cell_type": "code",
   "execution_count": 33,
   "metadata": {},
   "outputs": [],
   "source": [
    "from sklearn.tree import DecisionTreeClassifier"
   ]
  },
  {
   "cell_type": "code",
   "execution_count": 34,
   "metadata": {},
   "outputs": [
    {
     "name": "stdout",
     "output_type": "stream",
     "text": [
      "criterion = gini\n",
      "\n",
      "max_depth = 5\n",
      "score = 0.50\n",
      "roc_auc = 0.67\n",
      "\n",
      "max_depth = 10\n",
      "score = 0.58\n",
      "roc_auc = 0.71\n",
      "\n",
      "max_depth = 30\n",
      "score = 0.67\n",
      "roc_auc = 0.77\n",
      "\n",
      "max_depth = 50\n",
      "score = 0.70\n",
      "roc_auc = 0.79\n",
      "\n",
      "max_depth = 60\n",
      "score = 0.70\n",
      "roc_auc = 0.80\n",
      "\n",
      "---------------------\n",
      "criterion = entropy\n",
      "\n",
      "max_depth = 5\n",
      "score = 0.50\n",
      "roc_auc = 0.67\n",
      "\n",
      "max_depth = 10\n",
      "score = 0.58\n",
      "roc_auc = 0.71\n",
      "\n",
      "max_depth = 30\n",
      "score = 0.66\n",
      "roc_auc = 0.76\n",
      "\n",
      "max_depth = 50\n",
      "score = 0.68\n",
      "roc_auc = 0.79\n",
      "\n",
      "max_depth = 60\n",
      "score = 0.68\n",
      "roc_auc = 0.79\n",
      "\n",
      "---------------------\n",
      "CPU times: user 2min 32s, sys: 597 ms, total: 2min 33s\n",
      "Wall time: 2min 33s\n"
     ]
    }
   ],
   "source": [
    "%%time\n",
    "scores = pd.DataFrame(columns=['gini', 'entropy'], index=[5, 10, 30, 50, 60])\n",
    "roc_auc = pd.DataFrame(columns=['gini', 'entropy'], index=[5, 10, 30, 50, 60])\n",
    "for criterion in 'gini', 'entropy':\n",
    "    print(f'criterion = {criterion}\\n')\n",
    "    for max_depth in 5, 10, 30, 50, 60:\n",
    "        model = DecisionTreeClassifier(criterion=criterion, max_depth=max_depth)\n",
    "        model.fit(train_X, train_Y)   \n",
    "        validate_predict = model.predict(validate_X)\n",
    "        \n",
    "        score = f1_score(validate_Y, validate_predict)\n",
    "        scores.loc[max_depth, criterion] = score\n",
    "        \n",
    "        roc = roc_auc_score(validate_Y, validate_predict)\n",
    "        roc_auc.loc[max_depth, criterion] = roc\n",
    "        \n",
    "        print(f'max_depth = {max_depth}')\n",
    "        print(f'score = {score:.2f}')\n",
    "        print(f'roc_auc = {roc:.2f}')\n",
    "        print()\n",
    "        \n",
    "    print('---------------------')"
   ]
  },
  {
   "cell_type": "code",
   "execution_count": 35,
   "metadata": {
    "scrolled": true
   },
   "outputs": [
    {
     "data": {
      "image/png": "[encoded data removed]",
      "text/plain": [
       "<Figure size 432x288 with 1 Axes>"
      ]
     },
     "metadata": {
      "needs_background": "light"
     },
     "output_type": "display_data"
    }
   ],
   "source": [
    "plot(scores, 'DecTree f-мера', 'max depth', 'score')"
   ]
  },
  {
   "cell_type": "code",
   "execution_count": 36,
   "metadata": {},
   "outputs": [
    {
     "data": {
      "image/png": "[encoded data removed]",
      "text/plain": [
       "<Figure size 432x288 with 1 Axes>"
      ]
     },
     "metadata": {
      "needs_background": "light"
     },
     "output_type": "display_data"
    }
   ],
   "source": [
    "plot(roc_auc, 'DecTree ROC-AUC', 'max depth', 'score')"
   ]
  },
  {
   "cell_type": "markdown",
   "metadata": {},
   "source": [
    "### 2.2.2 Градиентный бустинг"
   ]
  },
  {
   "cell_type": "code",
   "execution_count": 37,
   "metadata": {},
   "outputs": [],
   "source": [
    "from sklearn.ensemble import GradientBoostingClassifier"
   ]
  },
  {
   "cell_type": "code",
   "execution_count": 38,
   "metadata": {},
   "outputs": [
    {
     "name": "stdout",
     "output_type": "stream",
     "text": [
      "loss = deviance\n",
      "\n",
      "n_estimators = 10\n",
      "roc_auc = 0.65\n",
      "score = 0.47\n",
      "\n",
      "n_estimators = 30\n",
      "roc_auc = 0.70\n",
      "score = 0.56\n",
      "\n",
      "n_estimators = 60\n",
      "roc_auc = 0.73\n",
      "score = 0.62\n",
      "\n",
      "n_estimators = 100\n",
      "roc_auc = 0.76\n",
      "score = 0.66\n",
      "\n",
      "---------------------\n",
      "loss = exponential\n",
      "\n",
      "n_estimators = 10\n",
      "roc_auc = 0.50\n",
      "score = 0.00\n",
      "\n",
      "n_estimators = 30\n",
      "roc_auc = 0.63\n",
      "score = 0.42\n",
      "\n",
      "n_estimators = 60\n",
      "roc_auc = 0.68\n",
      "score = 0.52\n",
      "\n",
      "n_estimators = 100\n",
      "roc_auc = 0.70\n",
      "score = 0.56\n",
      "\n",
      "---------------------\n",
      "CPU times: user 14min 56s, sys: 6.58 s, total: 15min 3s\n",
      "Wall time: 15min 7s\n"
     ]
    }
   ],
   "source": [
    "%%time\n",
    "scores = pd.DataFrame(columns=['deviance', 'exponential'], index=[10, 30, 60, 100])\n",
    "roc_auc = pd.DataFrame(columns=['deviance', 'exponential'], index=[10, 30, 60, 100])\n",
    "for loss in 'deviance', 'exponential':\n",
    "    print(f'loss = {loss}\\n')\n",
    "    for n_estimators in 10, 30, 60, 100:\n",
    "        model = GradientBoostingClassifier(loss=loss, n_estimators=n_estimators, max_depth=6)\n",
    "        model.fit(train_X, train_Y)   \n",
    "        validate_predict = model.predict(validate_X)\n",
    "        \n",
    "        score = f1_score(validate_Y, validate_predict)\n",
    "        scores.loc[n_estimators, loss] = score\n",
    "        \n",
    "        roc = roc_auc_score(validate_Y, validate_predict)\n",
    "        roc_auc.loc[n_estimators, loss] = roc\n",
    "        \n",
    "        print(f'n_estimators = {n_estimators}')\n",
    "        print(f'roc_auc = {roc:.2f}')\n",
    "        print(f'score = {score:.2f}')\n",
    "        print()\n",
    "        \n",
    "    print('---------------------')"
   ]
  },
  {
   "cell_type": "code",
   "execution_count": 39,
   "metadata": {},
   "outputs": [
    {
     "data": {
      "image/png": "[encoded data removed]",
      "text/plain": [
       "<Figure size 432x288 with 1 Axes>"
      ]
     },
     "metadata": {
      "needs_background": "light"
     },
     "output_type": "display_data"
    }
   ],
   "source": [
    "plot(scores, 'GradBoost f-мера', 'n estimators', 'score')"
   ]
  },
  {
   "cell_type": "code",
   "execution_count": 40,
   "metadata": {},
   "outputs": [
    {
     "data": {
      "image/png": "[encoded data removed]",
      "text/plain": [
       "<Figure size 432x288 with 1 Axes>"
      ]
     },
     "metadata": {
      "needs_background": "light"
     },
     "output_type": "display_data"
    }
   ],
   "source": [
    "plot(roc_auc, 'GradBoost ROC-AUC', 'n estimators', 'score')"
   ]
  },
  {
   "cell_type": "markdown",
   "metadata": {},
   "source": [
    "## 2.3 Метод опорных векторов"
   ]
  },
  {
   "cell_type": "code",
   "execution_count": 41,
   "metadata": {},
   "outputs": [],
   "source": [
    "from sklearn.svm import LinearSVC"
   ]
  },
  {
   "cell_type": "code",
   "execution_count": 42,
   "metadata": {},
   "outputs": [
    {
     "name": "stdout",
     "output_type": "stream",
     "text": [
      "penalty = l1\n",
      "C = 0.1\n",
      "score = 0.73\n",
      "roc_auc = 0.80\n",
      "\n",
      "C = 1\n",
      "score = 0.78\n",
      "roc_auc = 0.85\n",
      "\n",
      "C = 2\n",
      "score = 0.77\n",
      "roc_auc = 0.85\n",
      "\n",
      "C = 10\n",
      "score = 0.73\n",
      "roc_auc = 0.84\n",
      "\n",
      "---------------------\n",
      "penalty = l2\n",
      "C = 0.1\n",
      "score = 0.73\n",
      "roc_auc = 0.80\n",
      "\n",
      "C = 1\n",
      "score = 0.77\n",
      "roc_auc = 0.84\n",
      "\n",
      "C = 2\n",
      "score = 0.77\n",
      "roc_auc = 0.85\n",
      "\n",
      "C = 10\n",
      "score = 0.74\n",
      "roc_auc = 0.84\n",
      "\n",
      "---------------------\n",
      "CPU times: user 44.5 s, sys: 1.58 s, total: 46.1 s\n",
      "Wall time: 33 s\n"
     ]
    }
   ],
   "source": [
    "%%time\n",
    "scores = pd.DataFrame(columns=['l1', 'l2'], index=[0.1, 1, 2, 10])\n",
    "roc_auc = pd.DataFrame(columns=['l1', 'l2'], index=[0.1, 1, 2, 10])\n",
    "for penalty in 'l1', 'l2':\n",
    "    print(f'penalty = {penalty}')\n",
    "    for C in 0.1, 1, 2, 10:\n",
    "        model = LinearSVC(C=C, penalty=penalty, dual=False, max_iter=2000)\n",
    "        model.fit(train_X, train_Y)   \n",
    "        validate_predict = model.predict(validate_X)\n",
    "        \n",
    "        score = f1_score(validate_Y, validate_predict)\n",
    "        scores.loc[C, penalty] = score\n",
    "        \n",
    "        roc = roc_auc_score(validate_Y, validate_predict)\n",
    "        roc_auc.loc[C, penalty] = roc\n",
    "        \n",
    "        print(f'C = {C}')\n",
    "        print(f'score = {score:.2f}')\n",
    "        print(f'roc_auc = {roc:.2f}')\n",
    "        print()\n",
    "  \n",
    "    print('---------------------')"
   ]
  },
  {
   "cell_type": "code",
   "execution_count": 43,
   "metadata": {
    "scrolled": true
   },
   "outputs": [
    {
     "data": {
      "image/png": "[encoded data removed]",
      "text/plain": [
       "<Figure size 432x288 with 1 Axes>"
      ]
     },
     "metadata": {
      "needs_background": "light"
     },
     "output_type": "display_data"
    }
   ],
   "source": [
    "plot(scores, 'LinSVC f-мера', 'C', 'score')"
   ]
  },
  {
   "cell_type": "code",
   "execution_count": 44,
   "metadata": {},
   "outputs": [
    {
     "data": {
      "image/png": "[encoded data removed]",
      "text/plain": [
       "<Figure size 432x288 with 1 Axes>"
      ]
     },
     "metadata": {
      "needs_background": "light"
     },
     "output_type": "display_data"
    }
   ],
   "source": [
    "plot(roc_auc, 'LinSVC ROC-AUC', 'C', 'score')"
   ]
  },
  {
   "cell_type": "markdown",
   "metadata": {},
   "source": [
    "# 3. Вывод \n",
    "Лучшее качество (значение f-меры равно 0.78) получилось с моделью, полученную методом опорных вектором про C = 1 и штрафе l1.\n",
    "## Тестирование на лучшей модели"
   ]
  },
  {
   "cell_type": "code",
   "execution_count": 45,
   "metadata": {},
   "outputs": [
    {
     "name": "stdout",
     "output_type": "stream",
     "text": [
      "score = 0.79\n",
      "roc-auc = 0.86\n",
      "CPU times: user 1.68 s, sys: 24.9 ms, total: 1.71 s\n",
      "Wall time: 1.71 s\n"
     ]
    }
   ],
   "source": [
    "%%time\n",
    "best_model =  LinearSVC(C=1, penalty='l1', dual=False, max_iter=2000)\n",
    "best_model.fit(train_X, train_Y)\n",
    "\n",
    "test_predict = best_model.predict(test_X)\n",
    "\n",
    "score = f1_score(test_Y, test_predict)\n",
    "roc = roc_auc_score(test_Y, test_predict)\n",
    "\n",
    "print(f'score = {score:.2f}')\n",
    "print(f'roc-auc = {roc:.2f}')"
   ]
  },
  {
   "cell_type": "markdown",
   "metadata": {},
   "source": [
    "# 4. Сохранение модели"
   ]
  },
  {
   "cell_type": "code",
   "execution_count": 54,
   "metadata": {},
   "outputs": [],
   "source": [
    "pickle.dump(best_model, open('model.pickle', 'wb'))\n",
    "pickle.dump(vectorizer, open('vectorizer.pickle', 'wb'))"
   ]
  },
  {
   "cell_type": "markdown",
   "metadata": {},
   "source": [
    "# 5. Предсказания"
   ]
  },
  {
   "cell_type": "code",
   "execution_count": 55,
   "metadata": {},
   "outputs": [],
   "source": [
    "model = pickle.load(open('model.pickle', 'rb'))\n",
    "vectorizer = pickle.load(open('vectorizer.pickle', 'rb'))"
   ]
  },
  {
   "cell_type": "code",
   "execution_count": 56,
   "metadata": {},
   "outputs": [],
   "source": [
    "def predict_for_message(text):\n",
    "    x = vectorizer.transform([text])\n",
    "    predict = best_model.predict(x)\n",
    "    return 'Toxic' if predict[0] else 'Not toxic'"
   ]
  },
  {
   "cell_type": "code",
   "execution_count": 57,
   "metadata": {},
   "outputs": [],
   "source": [
    "test = pd.read_csv('test.csv')"
   ]
  },
  {
   "cell_type": "code",
   "execution_count": 58,
   "metadata": {},
   "outputs": [
    {
     "data": {
      "text/plain": [
       "\"Yo bitch Ja Rule is more succesful then you'll ever be whats up with you and hating you sad mofuckas...i should bitch slap ur pethedic white faces and get you to kiss my ass you guys sicken me. Ja rule is about pride in da music man. dont diss that shit on him. and nothin is wrong bein like tupac he was a brother too...fuckin white boys get things right next time.,\""
      ]
     },
     "execution_count": 58,
     "metadata": {},
     "output_type": "execute_result"
    }
   ],
   "source": [
    "test.loc[0, 'comment_text']"
   ]
  },
  {
   "cell_type": "code",
   "execution_count": 59,
   "metadata": {},
   "outputs": [
    {
     "data": {
      "text/plain": [
       "'Toxic'"
      ]
     },
     "execution_count": 59,
     "metadata": {},
     "output_type": "execute_result"
    }
   ],
   "source": [
    "predict_for_message(\"Yo bitch Ja Rule is more succesful then you'll ever be whats up with you and hating you sad mofuckas...i should bitch slap ur pethedic white faces and get you to kiss my ass you guys sicken me. Ja rule is about pride in da music man. dont diss that shit on him. and nothin is wrong bein like tupac he was a brother too...fuckin white boys get things right next time.,\")"
   ]
  },
  {
   "cell_type": "code",
   "execution_count": 60,
   "metadata": {},
   "outputs": [
    {
     "data": {
      "text/plain": [
       "'Thank you for understanding. I think very highly of you and would not revert without discussion.'"
      ]
     },
     "execution_count": 60,
     "metadata": {},
     "output_type": "execute_result"
    }
   ],
   "source": [
    "test.loc[5, 'comment_text']"
   ]
  },
  {
   "cell_type": "code",
   "execution_count": 61,
   "metadata": {},
   "outputs": [
    {
     "data": {
      "text/plain": [
       "'Not toxic'"
      ]
     },
     "execution_count": 61,
     "metadata": {},
     "output_type": "execute_result"
    }
   ],
   "source": [
    "predict_for_message('Thank you for understanding. I think very highly of you and would not revert without discussion.')"
   ]
  }
 ],
 "metadata": {
  "kernelspec": {
   "display_name": "Python 3",
   "language": "python",
   "name": "python3"
  },
  "language_info": {
   "codemirror_mode": {
    "name": "ipython",
    "version": 3
   },
   "file_extension": ".py",
   "mimetype": "text/x-python",
   "name": "python",
   "nbconvert_exporter": "python",
   "pygments_lexer": "ipython3",
   "version": "3.7.7"
  }
 },
 "nbformat": 4,
 "nbformat_minor": 4
}
