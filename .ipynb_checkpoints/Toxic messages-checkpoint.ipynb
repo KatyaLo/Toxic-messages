{
 "cells": [
  {
   "cell_type": "code",
   "execution_count": 2,
   "metadata": {},
   "outputs": [],
   "source": [
    "import pandas as pd\n",
    "import numpy as np\n",
    "\n",
    "from nltk.corpus import wordnet\n",
    "\n",
    "from nltk.stem.wordnet import WordNetLemmatizer\n",
    "from nltk import word_tokenize, pos_tag\n",
    "from nltk.tokenize import sent_tokenize, word_tokenize\n",
    "from nltk.corpus import stopwords\n",
    "\n",
    "import string\n",
    "\n",
    "from re import search\n",
    "from sklearn.feature_extraction.text import TfidfVectorizer\n",
    "from sklearn.model_selection import train_test_split\n",
    "\n",
    "from sklearn.metrics import accuracy_score\n",
    "from sklearn.metrics import f1_score\n",
    "\n",
    "import time\n",
    "import datetime\n",
    "\n",
    "import matplotlib.pyplot as plt\n",
    "%matplotlib inline"
   ]
  },
  {
   "cell_type": "code",
   "execution_count": 3,
   "metadata": {},
   "outputs": [
    {
     "name": "stderr",
     "output_type": "stream",
     "text": [
      "[nltk_data] Downloading package stopwords to\n",
      "[nltk_data]     /Users/ekaterinalozovaya/nltk_data...\n",
      "[nltk_data]   Package stopwords is already up-to-date!\n",
      "[nltk_data] Downloading package punkt to\n",
      "[nltk_data]     /Users/ekaterinalozovaya/nltk_data...\n",
      "[nltk_data]   Package punkt is already up-to-date!\n",
      "[nltk_data] Downloading package wordnet to\n",
      "[nltk_data]     /Users/ekaterinalozovaya/nltk_data...\n",
      "[nltk_data]   Package wordnet is already up-to-date!\n"
     ]
    },
    {
     "data": {
      "text/plain": [
       "True"
      ]
     },
     "execution_count": 3,
     "metadata": {},
     "output_type": "execute_result"
    }
   ],
   "source": [
    "import nltk\n",
    "nltk.download('stopwords')\n",
    "nltk.download('punkt')\n",
    "nltk.download('wordnet')"
   ]
  },
  {
   "cell_type": "markdown",
   "metadata": {},
   "source": [
    "# 1. Подготовка данных\n",
    "## 1.1 Добавление целевого вектора"
   ]
  },
  {
   "cell_type": "code",
   "execution_count": 4,
   "metadata": {},
   "outputs": [
    {
     "data": {
      "text/html": [
       "<div>\n",
       "<style scoped>\n",
       "    .dataframe tbody tr th:only-of-type {\n",
       "        vertical-align: middle;\n",
       "    }\n",
       "\n",
       "    .dataframe tbody tr th {\n",
       "        vertical-align: top;\n",
       "    }\n",
       "\n",
       "    .dataframe thead th {\n",
       "        text-align: right;\n",
       "    }\n",
       "</style>\n",
       "<table border=\"1\" class=\"dataframe\">\n",
       "  <thead>\n",
       "    <tr style=\"text-align: right;\">\n",
       "      <th></th>\n",
       "      <th>id</th>\n",
       "      <th>comment_text</th>\n",
       "      <th>toxic</th>\n",
       "      <th>severe_toxic</th>\n",
       "      <th>obscene</th>\n",
       "      <th>threat</th>\n",
       "      <th>insult</th>\n",
       "      <th>identity_hate</th>\n",
       "    </tr>\n",
       "  </thead>\n",
       "  <tbody>\n",
       "    <tr>\n",
       "      <th>0</th>\n",
       "      <td>0000997932d777bf</td>\n",
       "      <td>Explanation\\nWhy the edits made under my usern...</td>\n",
       "      <td>0</td>\n",
       "      <td>0</td>\n",
       "      <td>0</td>\n",
       "      <td>0</td>\n",
       "      <td>0</td>\n",
       "      <td>0</td>\n",
       "    </tr>\n",
       "    <tr>\n",
       "      <th>1</th>\n",
       "      <td>000103f0d9cfb60f</td>\n",
       "      <td>D'aww! He matches this background colour I'm s...</td>\n",
       "      <td>0</td>\n",
       "      <td>0</td>\n",
       "      <td>0</td>\n",
       "      <td>0</td>\n",
       "      <td>0</td>\n",
       "      <td>0</td>\n",
       "    </tr>\n",
       "    <tr>\n",
       "      <th>2</th>\n",
       "      <td>000113f07ec002fd</td>\n",
       "      <td>Hey man, I'm really not trying to edit war. It...</td>\n",
       "      <td>0</td>\n",
       "      <td>0</td>\n",
       "      <td>0</td>\n",
       "      <td>0</td>\n",
       "      <td>0</td>\n",
       "      <td>0</td>\n",
       "    </tr>\n",
       "    <tr>\n",
       "      <th>3</th>\n",
       "      <td>0001b41b1c6bb37e</td>\n",
       "      <td>\"\\nMore\\nI can't make any real suggestions on ...</td>\n",
       "      <td>0</td>\n",
       "      <td>0</td>\n",
       "      <td>0</td>\n",
       "      <td>0</td>\n",
       "      <td>0</td>\n",
       "      <td>0</td>\n",
       "    </tr>\n",
       "    <tr>\n",
       "      <th>4</th>\n",
       "      <td>0001d958c54c6e35</td>\n",
       "      <td>You, sir, are my hero. Any chance you remember...</td>\n",
       "      <td>0</td>\n",
       "      <td>0</td>\n",
       "      <td>0</td>\n",
       "      <td>0</td>\n",
       "      <td>0</td>\n",
       "      <td>0</td>\n",
       "    </tr>\n",
       "    <tr>\n",
       "      <th>5</th>\n",
       "      <td>00025465d4725e87</td>\n",
       "      <td>\"\\n\\nCongratulations from me as well, use the ...</td>\n",
       "      <td>0</td>\n",
       "      <td>0</td>\n",
       "      <td>0</td>\n",
       "      <td>0</td>\n",
       "      <td>0</td>\n",
       "      <td>0</td>\n",
       "    </tr>\n",
       "    <tr>\n",
       "      <th>6</th>\n",
       "      <td>0002bcb3da6cb337</td>\n",
       "      <td>COCKSUCKER BEFORE YOU PISS AROUND ON MY WORK</td>\n",
       "      <td>1</td>\n",
       "      <td>1</td>\n",
       "      <td>1</td>\n",
       "      <td>0</td>\n",
       "      <td>1</td>\n",
       "      <td>0</td>\n",
       "    </tr>\n",
       "    <tr>\n",
       "      <th>7</th>\n",
       "      <td>00031b1e95af7921</td>\n",
       "      <td>Your vandalism to the Matt Shirvington article...</td>\n",
       "      <td>0</td>\n",
       "      <td>0</td>\n",
       "      <td>0</td>\n",
       "      <td>0</td>\n",
       "      <td>0</td>\n",
       "      <td>0</td>\n",
       "    </tr>\n",
       "    <tr>\n",
       "      <th>8</th>\n",
       "      <td>00037261f536c51d</td>\n",
       "      <td>Sorry if the word 'nonsense' was offensive to ...</td>\n",
       "      <td>0</td>\n",
       "      <td>0</td>\n",
       "      <td>0</td>\n",
       "      <td>0</td>\n",
       "      <td>0</td>\n",
       "      <td>0</td>\n",
       "    </tr>\n",
       "    <tr>\n",
       "      <th>9</th>\n",
       "      <td>00040093b2687caa</td>\n",
       "      <td>alignment on this subject and which are contra...</td>\n",
       "      <td>0</td>\n",
       "      <td>0</td>\n",
       "      <td>0</td>\n",
       "      <td>0</td>\n",
       "      <td>0</td>\n",
       "      <td>0</td>\n",
       "    </tr>\n",
       "  </tbody>\n",
       "</table>\n",
       "</div>"
      ],
      "text/plain": [
       "                 id                                       comment_text  toxic  \\\n",
       "0  0000997932d777bf  Explanation\\nWhy the edits made under my usern...      0   \n",
       "1  000103f0d9cfb60f  D'aww! He matches this background colour I'm s...      0   \n",
       "2  000113f07ec002fd  Hey man, I'm really not trying to edit war. It...      0   \n",
       "3  0001b41b1c6bb37e  \"\\nMore\\nI can't make any real suggestions on ...      0   \n",
       "4  0001d958c54c6e35  You, sir, are my hero. Any chance you remember...      0   \n",
       "5  00025465d4725e87  \"\\n\\nCongratulations from me as well, use the ...      0   \n",
       "6  0002bcb3da6cb337       COCKSUCKER BEFORE YOU PISS AROUND ON MY WORK      1   \n",
       "7  00031b1e95af7921  Your vandalism to the Matt Shirvington article...      0   \n",
       "8  00037261f536c51d  Sorry if the word 'nonsense' was offensive to ...      0   \n",
       "9  00040093b2687caa  alignment on this subject and which are contra...      0   \n",
       "\n",
       "   severe_toxic  obscene  threat  insult  identity_hate  \n",
       "0             0        0       0       0              0  \n",
       "1             0        0       0       0              0  \n",
       "2             0        0       0       0              0  \n",
       "3             0        0       0       0              0  \n",
       "4             0        0       0       0              0  \n",
       "5             0        0       0       0              0  \n",
       "6             1        1       0       1              0  \n",
       "7             0        0       0       0              0  \n",
       "8             0        0       0       0              0  \n",
       "9             0        0       0       0              0  "
      ]
     },
     "execution_count": 4,
     "metadata": {},
     "output_type": "execute_result"
    }
   ],
   "source": [
    "#Чтение данных\n",
    "df =  pd.read_csv('/Users/ekaterinalozovaya/toxic-comment/train.csv')\n",
    "df.head(10)"
   ]
  },
  {
   "cell_type": "code",
   "execution_count": 5,
   "metadata": {},
   "outputs": [
    {
     "name": "stdout",
     "output_type": "stream",
     "text": [
      "<class 'pandas.core.frame.DataFrame'>\n",
      "RangeIndex: 159571 entries, 0 to 159570\n",
      "Data columns (total 8 columns):\n",
      " #   Column         Non-Null Count   Dtype \n",
      "---  ------         --------------   ----- \n",
      " 0   id             159571 non-null  object\n",
      " 1   comment_text   159571 non-null  object\n",
      " 2   toxic          159571 non-null  int64 \n",
      " 3   severe_toxic   159571 non-null  int64 \n",
      " 4   obscene        159571 non-null  int64 \n",
      " 5   threat         159571 non-null  int64 \n",
      " 6   insult         159571 non-null  int64 \n",
      " 7   identity_hate  159571 non-null  int64 \n",
      "dtypes: int64(6), object(2)\n",
      "memory usage: 9.7+ MB\n"
     ]
    }
   ],
   "source": [
    "df.info()"
   ]
  },
  {
   "cell_type": "code",
   "execution_count": 6,
   "metadata": {},
   "outputs": [
    {
     "data": {
      "text/html": [
       "<div>\n",
       "<style scoped>\n",
       "    .dataframe tbody tr th:only-of-type {\n",
       "        vertical-align: middle;\n",
       "    }\n",
       "\n",
       "    .dataframe tbody tr th {\n",
       "        vertical-align: top;\n",
       "    }\n",
       "\n",
       "    .dataframe thead th {\n",
       "        text-align: right;\n",
       "    }\n",
       "</style>\n",
       "<table border=\"1\" class=\"dataframe\">\n",
       "  <thead>\n",
       "    <tr style=\"text-align: right;\">\n",
       "      <th></th>\n",
       "      <th>comment_text</th>\n",
       "      <th>target</th>\n",
       "    </tr>\n",
       "  </thead>\n",
       "  <tbody>\n",
       "    <tr>\n",
       "      <th>0</th>\n",
       "      <td>Explanation\\nWhy the edits made under my usern...</td>\n",
       "      <td>0</td>\n",
       "    </tr>\n",
       "    <tr>\n",
       "      <th>1</th>\n",
       "      <td>D'aww! He matches this background colour I'm s...</td>\n",
       "      <td>0</td>\n",
       "    </tr>\n",
       "    <tr>\n",
       "      <th>2</th>\n",
       "      <td>Hey man, I'm really not trying to edit war. It...</td>\n",
       "      <td>0</td>\n",
       "    </tr>\n",
       "    <tr>\n",
       "      <th>3</th>\n",
       "      <td>\"\\nMore\\nI can't make any real suggestions on ...</td>\n",
       "      <td>0</td>\n",
       "    </tr>\n",
       "    <tr>\n",
       "      <th>4</th>\n",
       "      <td>You, sir, are my hero. Any chance you remember...</td>\n",
       "      <td>0</td>\n",
       "    </tr>\n",
       "    <tr>\n",
       "      <th>5</th>\n",
       "      <td>\"\\n\\nCongratulations from me as well, use the ...</td>\n",
       "      <td>0</td>\n",
       "    </tr>\n",
       "    <tr>\n",
       "      <th>6</th>\n",
       "      <td>COCKSUCKER BEFORE YOU PISS AROUND ON MY WORK</td>\n",
       "      <td>1</td>\n",
       "    </tr>\n",
       "  </tbody>\n",
       "</table>\n",
       "</div>"
      ],
      "text/plain": [
       "                                        comment_text  target\n",
       "0  Explanation\\nWhy the edits made under my usern...       0\n",
       "1  D'aww! He matches this background colour I'm s...       0\n",
       "2  Hey man, I'm really not trying to edit war. It...       0\n",
       "3  \"\\nMore\\nI can't make any real suggestions on ...       0\n",
       "4  You, sir, are my hero. Any chance you remember...       0\n",
       "5  \"\\n\\nCongratulations from me as well, use the ...       0\n",
       "6       COCKSUCKER BEFORE YOU PISS AROUND ON MY WORK       1"
      ]
     },
     "execution_count": 6,
     "metadata": {},
     "output_type": "execute_result"
    }
   ],
   "source": [
    "df['target'] = df[['toxic','severe_toxic','obscene','threat', 'insult', 'identity_hate']].max(axis=1)\n",
    "df.drop(['id', 'toxic', 'severe_toxic', 'obscene', 'threat', 'insult', 'identity_hate'], axis=1, inplace=True)\n",
    "df.head(7)"
   ]
  },
  {
   "cell_type": "code",
   "execution_count": 7,
   "metadata": {},
   "outputs": [
    {
     "name": "stdout",
     "output_type": "stream",
     "text": [
      "toxic_ratio comments: 10.17%\n"
     ]
    }
   ],
   "source": [
    "toxic_ratio = df.target.sum() / df.shape[0]\n",
    "\n",
    "print(f'toxic_ratio comments: {toxic_ratio * 100:.2f}%')"
   ]
  },
  {
   "cell_type": "markdown",
   "metadata": {},
   "source": [
    "## 1.2 Лемитизация комментариев"
   ]
  },
  {
   "cell_type": "code",
   "execution_count": 8,
   "metadata": {},
   "outputs": [],
   "source": [
    "# Определенте стоп слов\n",
    "stop_words = set(stopwords.words('english'))\n",
    "\n",
    "#Определение словаря знаков препинания \n",
    "punctuation = string.punctuation \n",
    "\n",
    "#Определение функций ламматизатора\n",
    "wordnet_lemmatizer = WordNetLemmatizer()"
   ]
  },
  {
   "cell_type": "code",
   "execution_count": 9,
   "metadata": {},
   "outputs": [
    {
     "data": {
      "text/plain": [
       "['is', 'a', 'from', 'off', 't']"
      ]
     },
     "execution_count": 9,
     "metadata": {},
     "output_type": "execute_result"
    }
   ],
   "source": [
    "list(stop_words)[:5]"
   ]
  },
  {
   "cell_type": "code",
   "execution_count": 10,
   "metadata": {},
   "outputs": [],
   "source": [
    "#Функцция лемматизаций\n",
    "def tokenizer(text):\n",
    "    tokens = [ word for sent in sent_tokenize(text) for word in word_tokenize(sent)]\n",
    "    tokens = list(filter(lambda t: t not in punctuation and t.lower() not in stop_words,\n",
    "                         tokens)) # Фильтр знаков припенания и стоп-слов\n",
    "    filtered_tokens = [token for token in tokens if search('[a-zA-Z]', token)]\n",
    "    filtered_tokens = list(\n",
    "        map(lambda token: wordnet_lemmatizer.lemmatize(token.lower()), filtered_tokens)) # Лемматизаци токенов\n",
    "    filtered_tokens = list(filter(lambda t: t not in punctuation, filtered_tokens)) # Фильтр знаков припенания\n",
    "    return ' '.join(filtered_tokens)"
   ]
  },
  {
   "cell_type": "code",
   "execution_count": null,
   "metadata": {},
   "outputs": [],
   "source": [
    "%%time\n",
    "df['clean_comment_text'] = df['comment_text'].map(tokenizer) #Применение лематизации тексту"
   ]
  },
  {
   "cell_type": "code",
   "execution_count": null,
   "metadata": {},
   "outputs": [],
   "source": [
    "df.head(7)"
   ]
  },
  {
   "cell_type": "markdown",
   "metadata": {},
   "source": [
    "## 1.3 Разбиение выборки на тренировачную, валидационную и тестовую"
   ]
  },
  {
   "cell_type": "code",
   "execution_count": null,
   "metadata": {},
   "outputs": [],
   "source": [
    "df_train, df_test = train_test_split(df, test_size=0.1, shuffle=True)"
   ]
  },
  {
   "cell_type": "code",
   "execution_count": null,
   "metadata": {},
   "outputs": [],
   "source": [
    "df_train, df_validate = train_test_split(df_train, test_size=0.2, shuffle=True)"
   ]
  },
  {
   "cell_type": "code",
   "execution_count": null,
   "metadata": {},
   "outputs": [],
   "source": [
    "print(df_train.shape, df_validate.shape, df_test.shape)"
   ]
  },
  {
   "cell_type": "markdown",
   "metadata": {},
   "source": [
    "## 1.4 Подготовка к обучению"
   ]
  },
  {
   "cell_type": "code",
   "execution_count": null,
   "metadata": {},
   "outputs": [],
   "source": [
    "stopwords = set(stopwords.words('english'))\n",
    "vectorizer = TfidfVectorizer(stop_words=stopwords)"
   ]
  },
  {
   "cell_type": "code",
   "execution_count": null,
   "metadata": {},
   "outputs": [],
   "source": [
    "def tf_idf(data, fit=0):\n",
    "    X = data['clean_comment_text'].values.astype('U')\n",
    "    if fit:\n",
    "        X = vectorizer.fit_transform(X)\n",
    "    else:\n",
    "        X = vectorizer.transform(X)\n",
    "    \n",
    "    Y = data['target']\n",
    "    return X, Y"
   ]
  },
  {
   "cell_type": "code",
   "execution_count": null,
   "metadata": {},
   "outputs": [],
   "source": [
    "train_X, train_Y = tf_idf(df_train, 1)"
   ]
  },
  {
   "cell_type": "code",
   "execution_count": null,
   "metadata": {},
   "outputs": [],
   "source": [
    "validate_X, validate_Y = tf_idf(df_validate)"
   ]
  },
  {
   "cell_type": "code",
   "execution_count": null,
   "metadata": {},
   "outputs": [],
   "source": [
    "test_X, test_Y = tf_idf(df_test)"
   ]
  },
  {
   "cell_type": "markdown",
   "metadata": {},
   "source": [
    "# 2. Обучение модели\n",
    "## 2.1 Логистическая регрессия"
   ]
  },
  {
   "cell_type": "code",
   "execution_count": 20,
   "metadata": {},
   "outputs": [],
   "source": [
    "from sklearn.linear_model import LogisticRegression"
   ]
  },
  {
   "cell_type": "markdown",
   "metadata": {},
   "source": [
    "### 2.1.1 Логистическая модель со стандартными параметрами"
   ]
  },
  {
   "cell_type": "code",
   "execution_count": 21,
   "metadata": {},
   "outputs": [
    {
     "data": {
      "text/plain": [
       "LogisticRegression(max_iter=500)"
      ]
     },
     "execution_count": 21,
     "metadata": {},
     "output_type": "execute_result"
    }
   ],
   "source": [
    "model = LogisticRegression(max_iter=500)\n",
    "model.fit(train_X, train_Y)"
   ]
  },
  {
   "cell_type": "code",
   "execution_count": 22,
   "metadata": {},
   "outputs": [],
   "source": [
    "validate_predict = model.predict(validate_X)"
   ]
  },
  {
   "cell_type": "code",
   "execution_count": 23,
   "metadata": {},
   "outputs": [
    {
     "data": {
      "text/plain": [
       "0.9531385997284406"
      ]
     },
     "execution_count": 23,
     "metadata": {},
     "output_type": "execute_result"
    }
   ],
   "source": [
    "model.score(validate_X, validate_Y)"
   ]
  },
  {
   "cell_type": "code",
   "execution_count": 24,
   "metadata": {},
   "outputs": [
    {
     "data": {
      "text/plain": [
       "0.72675598863175"
      ]
     },
     "execution_count": 24,
     "metadata": {},
     "output_type": "execute_result"
    }
   ],
   "source": [
    "f1_score(validate_Y, validate_predict)"
   ]
  },
  {
   "cell_type": "markdown",
   "metadata": {},
   "source": [
    "### 2.1.2 Логистическая регрессия с измененными параметрами"
   ]
  },
  {
   "cell_type": "code",
   "execution_count": 32,
   "metadata": {},
   "outputs": [
    {
     "name": "stdout",
     "output_type": "stream",
     "text": [
      "C = 0.01\n",
      "penalty = l\n",
      "score = 0.28\n",
      "\n",
      "C = 0.1\n",
      "penalty = l\n",
      "score = 0.66\n",
      "\n",
      "C = 1\n",
      "penalty = l\n",
      "score = 0.78\n",
      "\n",
      "C = 10\n",
      "penalty = l\n",
      "score = 0.77\n",
      "\n",
      "C = 100\n",
      "penalty = l\n",
      "score = 0.72\n",
      "\n",
      "---------------------\n",
      "C = 0.01\n",
      "penalty = l\n",
      "score = 0.06\n",
      "\n",
      "C = 0.1\n",
      "penalty = l\n",
      "score = 0.50\n",
      "\n",
      "C = 1\n",
      "penalty = l\n",
      "score = 0.73\n",
      "\n",
      "C = 10\n",
      "penalty = l\n",
      "score = 0.77\n",
      "\n",
      "C = 100\n",
      "penalty = l\n",
      "score = 0.75\n",
      "\n",
      "---------------------\n"
     ]
    }
   ],
   "source": [
    "scores_l1 = {}\n",
    "scores_l2 = {}\n",
    "for penalty in 'l1', 'l2':\n",
    "    for deg in range(-2, 3):\n",
    "        c = 10 ** deg\n",
    "        model = LogisticRegression(penalty=penalty, C=c, max_iter=1000, random_state=241, solver='liblinear')\n",
    "        model.fit(train_X, train_Y)\n",
    "        validate_predict = model.predict(validate_X)\n",
    "\n",
    "        score = f1_score(validate_Y, validate_predict)\n",
    "\n",
    "        print(f'C = {c}')\n",
    "        print(f'penalty = {penalty}')\n",
    "        print(f'score = {score:.2f}')\n",
    "        print()\n",
    "    \n",
    "        if penalty == 'l1':\n",
    "            scores_l1[deg] = score\n",
    "        else:\n",
    "            scores_l2[deg] = score\n",
    "    print('---------------------')"
   ]
  },
  {
   "cell_type": "code",
   "execution_count": 33,
   "metadata": {},
   "outputs": [
    {
     "data": {
      "text/plain": [
       "Text(0.5, 1.0, 'f1 score')"
      ]
     },
     "execution_count": 33,
     "metadata": {},
     "output_type": "execute_result"
    },
    {
     "data": {
      "image/png": "[encoded data removed]",
      "text/plain": [
       "<Figure size 432x288 with 1 Axes>"
      ]
     },
     "metadata": {
      "needs_background": "light"
     },
     "output_type": "display_data"
    }
   ],
   "source": [
    "scores_l1 = pd.Series(scores_l1)\n",
    "scores_l2 = pd.Series(scores_l2)\n",
    "scores_l1.plot()\n",
    "scores_l2.plot()\n",
    "plt.ylabel('Score')\n",
    "plt.xlabel('C')\n",
    "plt.title(\"f1 score\")"
   ]
  },
  {
   "cell_type": "markdown",
   "metadata": {},
   "source": [
    "## 2.2 Деревья"
   ]
  },
  {
   "cell_type": "code",
   "execution_count": 20,
   "metadata": {},
   "outputs": [],
   "source": [
    "from sklearn.tree import DecisionTreeClassifier"
   ]
  },
  {
   "cell_type": "markdown",
   "metadata": {},
   "source": [
    "### 2.2.1 Решающее дерево"
   ]
  },
  {
   "cell_type": "code",
   "execution_count": 23,
   "metadata": {},
   "outputs": [
    {
     "name": "stdout",
     "output_type": "stream",
     "text": [
      "criterion = gini\n",
      "max_depth = 5\n",
      "score = 0.503988035892323\n",
      "\n",
      "criterion = gini\n",
      "max_depth = 10\n",
      "score = 0.5844516427579823\n",
      "\n",
      "criterion = gini\n",
      "max_depth = 50\n",
      "score = 0.7002778880508137\n",
      "\n",
      "criterion = gini\n",
      "max_depth = 100\n",
      "score = 0.7106656580937973\n",
      "\n",
      "---------------------\n",
      "criterion = entropy\n",
      "max_depth = 5\n",
      "score = 0.5008739076154807\n",
      "\n",
      "criterion = entropy\n",
      "max_depth = 10\n",
      "score = 0.5747609050618149\n",
      "\n",
      "criterion = entropy\n",
      "max_depth = 50\n",
      "score = 0.68639283628577\n",
      "\n",
      "criterion = entropy\n",
      "max_depth = 100\n",
      "score = 0.6937052670214717\n",
      "\n",
      "---------------------\n"
     ]
    }
   ],
   "source": [
    "scores_gini = {}\n",
    "scores_entropy = {}\n",
    "for criterion in 'gini', 'entropy':\n",
    "    for max_depth in 5, 10, 50, 100:\n",
    "        model = DecisionTreeClassifier(criterion=criterion, max_depth=max_depth)\n",
    "        model.fit(train_X, train_Y)   \n",
    "        validate_predict = model.predict(validate_X)\n",
    "        \n",
    "        score = f1_score(validate_Y, validate_predict)\n",
    "        \n",
    "        print(f'criterion = {criterion}')\n",
    "        print(f'max_depth = {max_depth}')\n",
    "        print(f'score = {score}')\n",
    "        print()\n",
    "        \n",
    "        if criterion == 'gini':\n",
    "            scores_gini[max_depth] = score\n",
    "        else:\n",
    "            scores_entropy[max_depth] = score\n",
    "        \n",
    "    print('---------------------')"
   ]
  },
  {
   "cell_type": "code",
   "execution_count": 24,
   "metadata": {},
   "outputs": [
    {
     "data": {
      "text/plain": [
       "Text(0.5, 1.0, 'f1 score')"
      ]
     },
     "execution_count": 24,
     "metadata": {},
     "output_type": "execute_result"
    },
    {
     "data": {
      "image/png": "[encoded data removed]",
      "text/plain": [
       "<Figure size 432x288 with 1 Axes>"
      ]
     },
     "metadata": {
      "needs_background": "light"
     },
     "output_type": "display_data"
    }
   ],
   "source": [
    "scores_gini = pd.Series(scores_gini)\n",
    "scores_entropy = pd.Series(scores_entropy)\n",
    "scores_gini.plot()\n",
    "scores_entropy.plot()\n",
    "plt.ylabel('Score')\n",
    "plt.xlabel('max_depth')\n",
    "plt.title(\"f1 score\")"
   ]
  },
  {
   "cell_type": "markdown",
   "metadata": {},
   "source": [
    "### 2.2.2 Градиентный бустинг"
   ]
  },
  {
   "cell_type": "code",
   "execution_count": 26,
   "metadata": {},
   "outputs": [],
   "source": [
    "from sklearn.ensemble import GradientBoostingClassifier"
   ]
  },
  {
   "cell_type": "code",
   "execution_count": 32,
   "metadata": {},
   "outputs": [
    {
     "name": "stdout",
     "output_type": "stream",
     "text": [
      "      Iter       Train Loss   Remaining Time \n",
      "         1           0.5835           40.50s\n",
      "         2           0.5501           35.16s\n",
      "         3           0.5284           30.61s\n",
      "         4           0.5099           26.87s\n",
      "         5           0.4947           22.31s\n",
      "         6           0.4818           17.87s\n",
      "         7           0.4705           13.38s\n",
      "         8           0.4604            8.85s\n",
      "         9           0.4499            4.44s\n",
      "        10           0.4424            0.00s\n",
      "criterion = friedman_mse\n",
      "n_estimators = 10\n",
      "score = 0.5331044629720451\n",
      "\n",
      "      Iter       Train Loss   Remaining Time \n",
      "         1           0.5835            2.03m\n",
      "         2           0.5501            2.02m\n",
      "         3           0.5284            1.94m\n",
      "         4           0.5099            1.88m\n",
      "         5           0.4947            1.81m\n",
      "         6           0.4818            1.74m\n",
      "         7           0.4704            1.66m\n",
      "         8           0.4608            1.58m\n",
      "         9           0.4505            1.50m\n",
      "        10           0.4428            1.41m\n",
      "        20           0.3843           42.68s\n",
      "        30           0.3454            0.00s\n",
      "criterion = friedman_mse\n",
      "n_estimators = 30\n",
      "score = 0.6267573696145124\n",
      "\n",
      "      Iter       Train Loss   Remaining Time \n",
      "         1           0.5835            4.34m\n",
      "         2           0.5500            4.16m\n",
      "         3           0.5284            3.97m\n",
      "         4           0.5100            3.76m\n",
      "         5           0.4947            3.74m\n",
      "         6           0.4819            3.67m\n",
      "         7           0.4705            3.53m\n",
      "         8           0.4604            3.42m\n",
      "         9           0.4499            3.35m\n",
      "        10           0.4424            3.25m\n",
      "        20           0.3833            2.86m\n",
      "        30           0.3459            2.16m\n",
      "        40           0.3189            1.45m\n",
      "        50           0.2967           43.27s\n",
      "        60           0.2811            0.00s\n",
      "criterion = friedman_mse\n",
      "n_estimators = 60\n",
      "score = 0.6789858186506231\n",
      "\n",
      "      Iter       Train Loss   Remaining Time \n",
      "         1           0.5835            7.15m\n",
      "         2           0.5501            7.15m\n",
      "         3           0.5284            7.20m\n",
      "         4           0.5100            7.22m\n",
      "         5           0.4948            7.13m\n",
      "         6           0.4819            7.09m\n",
      "         7           0.4705            7.01m\n",
      "         8           0.4604            6.97m\n",
      "         9           0.4499            6.96m\n",
      "        10           0.4424            6.92m\n",
      "        20           0.3842            6.22m\n",
      "        30           0.3455            5.52m\n",
      "        40           0.3187            4.69m\n",
      "        50           0.2978            3.85m\n",
      "        60           0.2812            3.08m\n",
      "        70           0.2674            2.29m\n",
      "        80           0.2552            1.51m\n",
      "        90           0.2437           44.79s\n",
      "       100           0.2344            0.00s\n",
      "criterion = friedman_mse\n",
      "n_estimators = 100\n",
      "score = 0.7077179113792387\n",
      "\n",
      "---------------------\n",
      "      Iter       Train Loss   Remaining Time \n",
      "         1           0.5835           37.48s\n",
      "         2           0.5501           33.56s\n",
      "         3           0.5284           29.63s\n",
      "         4           0.5099           25.50s\n",
      "         5           0.4948           21.23s\n",
      "         6           0.4818           16.93s\n",
      "         7           0.4705           12.71s\n",
      "         8           0.4604            8.47s\n",
      "         9           0.4499            4.29s\n",
      "        10           0.4424            0.00s\n",
      "criterion = mse\n",
      "n_estimators = 10\n",
      "score = 0.5284412706229993\n",
      "\n",
      "      Iter       Train Loss   Remaining Time \n",
      "         1           0.5835            2.11m\n",
      "         2           0.5500            2.01m\n",
      "         3           0.5283            1.90m\n",
      "         4           0.5099            1.82m\n",
      "         5           0.4947            1.74m\n",
      "         6           0.4818            1.68m\n",
      "         7           0.4704            1.62m\n",
      "         8           0.4608            1.57m\n",
      "         9           0.4504            1.52m\n",
      "        10           0.4428            1.45m\n",
      "        20           0.3848           44.04s\n",
      "        30           0.3449            0.00s\n",
      "criterion = mse\n",
      "n_estimators = 30\n",
      "score = 0.6288426763110306\n",
      "\n",
      "      Iter       Train Loss   Remaining Time \n",
      "         1           0.5835            4.27m\n",
      "         2           0.5500            4.06m\n",
      "         3           0.5284            3.94m\n",
      "         4           0.5099            3.97m\n",
      "         5           0.4947            3.90m\n",
      "         6           0.4819            3.84m\n",
      "         7           0.4704            3.76m\n",
      "         8           0.4604            3.70m\n",
      "         9           0.4498            3.68m\n",
      "        10           0.4424            3.64m\n",
      "        20           0.3833            2.97m\n",
      "        30           0.3451            2.26m\n",
      "        40           0.3184            1.50m\n",
      "        50           0.2969           44.63s\n",
      "        60           0.2803            0.00s\n",
      "criterion = mse\n",
      "n_estimators = 60\n",
      "score = 0.682110682110682\n",
      "\n",
      "      Iter       Train Loss   Remaining Time \n",
      "         1           0.5835            6.49m\n",
      "         2           0.5501            6.45m\n",
      "         3           0.5284            6.40m\n",
      "         4           0.5100            6.35m\n",
      "         5           0.4947            6.29m\n",
      "         6           0.4818            6.23m\n",
      "         7           0.4705            6.18m\n",
      "         8           0.4604            6.12m\n",
      "         9           0.4499            6.11m\n",
      "        10           0.4424            6.04m\n",
      "        20           0.3838            5.51m\n",
      "        30           0.3453            4.86m\n",
      "        40           0.3196            4.19m\n",
      "        50           0.2970            3.54m\n",
      "        60           0.2813            2.79m\n",
      "        70           0.2670            2.08m\n",
      "        80           0.2554            1.37m\n",
      "        90           0.2441           40.69s\n",
      "       100           0.2344            0.00s\n",
      "criterion = mse\n",
      "n_estimators = 100\n",
      "score = 0.702140927042195\n",
      "\n",
      "---------------------\n"
     ]
    }
   ],
   "source": [
    "scores_fmse = {}\n",
    "scores_mse = {}\n",
    "for criterion in 'friedman_mse', 'mse':\n",
    "    for n_estimators in [10, 30, 60, 100]:\n",
    "        model = GradientBoostingClassifier(criterion=criterion, n_estimators=n_estimators, max_depth=10, verbose=1)\n",
    "        model.fit(train_X, train_Y)   \n",
    "        validate_predict = model.predict(validate_X)\n",
    "        \n",
    "        score = f1_score(validate_Y, validate_predict)\n",
    "        \n",
    "        print(f'criterion = {criterion}')\n",
    "        print(f'n_estimators = {n_estimators}')\n",
    "        print(f'score = {score}')\n",
    "        print()\n",
    "        \n",
    "        if criterion == 'friedman_mse':\n",
    "            scores_fmse[n_estimators] = score\n",
    "        else:\n",
    "            scores_mse[n_estimators] = score\n",
    "        \n",
    "    print('---------------------')"
   ]
  },
  {
   "cell_type": "code",
   "execution_count": 33,
   "metadata": {},
   "outputs": [
    {
     "data": {
      "text/plain": [
       "Text(0.5, 1.0, 'f1 score')"
      ]
     },
     "execution_count": 33,
     "metadata": {},
     "output_type": "execute_result"
    },
    {
     "data": {
      "image/png": "[encoded data removed]",
      "text/plain": [
       "<Figure size 432x288 with 1 Axes>"
      ]
     },
     "metadata": {
      "needs_background": "light"
     },
     "output_type": "display_data"
    }
   ],
   "source": [
    "scores_fmse = pd.Series(scores_fmse)\n",
    "scores_mse = pd.Series(scores_mse)\n",
    "scores_fmse.plot()\n",
    "scores_mse.plot()\n",
    "plt.ylabel('Score')\n",
    "plt.xlabel('n_estimators')\n",
    "plt.title(\"f1 score\")"
   ]
  },
  {
   "cell_type": "markdown",
   "metadata": {},
   "source": [
    "### 2.2.3 Случайный лес"
   ]
  },
  {
   "cell_type": "code",
   "execution_count": 34,
   "metadata": {},
   "outputs": [],
   "source": [
    "from sklearn.ensemble import RandomForestClassifier"
   ]
  },
  {
   "cell_type": "code",
   "execution_count": 60,
   "metadata": {},
   "outputs": [
    {
     "name": "stderr",
     "output_type": "stream",
     "text": [
      "[Parallel(n_jobs=1)]: Using backend SequentialBackend with 1 concurrent workers.\n",
      "[Parallel(n_jobs=1)]: Done  10 out of  10 | elapsed:    0.2s finished\n",
      "[Parallel(n_jobs=1)]: Using backend SequentialBackend with 1 concurrent workers.\n",
      "[Parallel(n_jobs=1)]: Done  10 out of  10 | elapsed:    0.0s finished\n",
      "[Parallel(n_jobs=1)]: Using backend SequentialBackend with 1 concurrent workers.\n"
     ]
    },
    {
     "name": "stdout",
     "output_type": "stream",
     "text": [
      "criterion = gini\n",
      "n_estimators = 10\n",
      "score = 0.00678886625933469\n",
      "\n"
     ]
    },
    {
     "name": "stderr",
     "output_type": "stream",
     "text": [
      "[Parallel(n_jobs=1)]: Done  30 out of  30 | elapsed:    0.8s finished\n",
      "[Parallel(n_jobs=1)]: Using backend SequentialBackend with 1 concurrent workers.\n",
      "[Parallel(n_jobs=1)]: Done  30 out of  30 | elapsed:    0.1s finished\n",
      "[Parallel(n_jobs=1)]: Using backend SequentialBackend with 1 concurrent workers.\n"
     ]
    },
    {
     "name": "stdout",
     "output_type": "stream",
     "text": [
      "criterion = gini\n",
      "n_estimators = 30\n",
      "score = 0.0\n",
      "\n"
     ]
    },
    {
     "name": "stderr",
     "output_type": "stream",
     "text": [
      "[Parallel(n_jobs=1)]: Done  60 out of  60 | elapsed:    1.5s finished\n",
      "[Parallel(n_jobs=1)]: Using backend SequentialBackend with 1 concurrent workers.\n",
      "[Parallel(n_jobs=1)]: Done  60 out of  60 | elapsed:    0.2s finished\n",
      "[Parallel(n_jobs=1)]: Using backend SequentialBackend with 1 concurrent workers.\n"
     ]
    },
    {
     "name": "stdout",
     "output_type": "stream",
     "text": [
      "criterion = gini\n",
      "n_estimators = 60\n",
      "score = 0.0\n",
      "\n"
     ]
    },
    {
     "name": "stderr",
     "output_type": "stream",
     "text": [
      "[Parallel(n_jobs=1)]: Done 100 out of 100 | elapsed:    2.6s finished\n",
      "[Parallel(n_jobs=1)]: Using backend SequentialBackend with 1 concurrent workers.\n",
      "[Parallel(n_jobs=1)]: Done 100 out of 100 | elapsed:    0.3s finished\n",
      "[Parallel(n_jobs=1)]: Using backend SequentialBackend with 1 concurrent workers.\n"
     ]
    },
    {
     "name": "stdout",
     "output_type": "stream",
     "text": [
      "criterion = gini\n",
      "n_estimators = 100\n",
      "score = 0.0\n",
      "\n",
      "---------------------\n"
     ]
    },
    {
     "name": "stderr",
     "output_type": "stream",
     "text": [
      "[Parallel(n_jobs=1)]: Done  10 out of  10 | elapsed:    0.3s finished\n",
      "[Parallel(n_jobs=1)]: Using backend SequentialBackend with 1 concurrent workers.\n",
      "[Parallel(n_jobs=1)]: Done  10 out of  10 | elapsed:    0.0s finished\n",
      "[Parallel(n_jobs=1)]: Using backend SequentialBackend with 1 concurrent workers.\n"
     ]
    },
    {
     "name": "stdout",
     "output_type": "stream",
     "text": [
      "criterion = entropy\n",
      "n_estimators = 10\n",
      "score = 0.0006809669731018045\n",
      "\n"
     ]
    },
    {
     "name": "stderr",
     "output_type": "stream",
     "text": [
      "[Parallel(n_jobs=1)]: Done  30 out of  30 | elapsed:    0.9s finished\n",
      "[Parallel(n_jobs=1)]: Using backend SequentialBackend with 1 concurrent workers.\n",
      "[Parallel(n_jobs=1)]: Done  30 out of  30 | elapsed:    0.1s finished\n",
      "[Parallel(n_jobs=1)]: Using backend SequentialBackend with 1 concurrent workers.\n"
     ]
    },
    {
     "name": "stdout",
     "output_type": "stream",
     "text": [
      "criterion = entropy\n",
      "n_estimators = 30\n",
      "score = 0.0\n",
      "\n"
     ]
    },
    {
     "name": "stderr",
     "output_type": "stream",
     "text": [
      "[Parallel(n_jobs=1)]: Done  60 out of  60 | elapsed:    1.6s finished\n",
      "[Parallel(n_jobs=1)]: Using backend SequentialBackend with 1 concurrent workers.\n",
      "[Parallel(n_jobs=1)]: Done  60 out of  60 | elapsed:    0.2s finished\n",
      "[Parallel(n_jobs=1)]: Using backend SequentialBackend with 1 concurrent workers.\n"
     ]
    },
    {
     "name": "stdout",
     "output_type": "stream",
     "text": [
      "criterion = entropy\n",
      "n_estimators = 60\n",
      "score = 0.0\n",
      "\n"
     ]
    },
    {
     "name": "stderr",
     "output_type": "stream",
     "text": [
      "[Parallel(n_jobs=1)]: Done 100 out of 100 | elapsed:    3.1s finished\n",
      "[Parallel(n_jobs=1)]: Using backend SequentialBackend with 1 concurrent workers.\n"
     ]
    },
    {
     "name": "stdout",
     "output_type": "stream",
     "text": [
      "criterion = entropy\n",
      "n_estimators = 100\n",
      "score = 0.0\n",
      "\n",
      "---------------------\n"
     ]
    },
    {
     "name": "stderr",
     "output_type": "stream",
     "text": [
      "[Parallel(n_jobs=1)]: Done 100 out of 100 | elapsed:    0.3s finished\n"
     ]
    }
   ],
   "source": [
    "scores_gini = {}\n",
    "scores_entropy = {}\n",
    "for criterion in 'gini', 'entropy':\n",
    "    for n_estimators in [10, 30, 60, 100]:\n",
    "        model = RandomForestClassifier(criterion=criterion, n_estimators=n_estimators, max_depth=10, verbose=1)\n",
    "        model.fit(train_X, train_Y)   \n",
    "        validate_predict = model.predict(validate_X)\n",
    "        \n",
    "        score = f1_score(validate_Y, validate_predict)\n",
    "        \n",
    "        print(f'criterion = {criterion}')\n",
    "        print(f'n_estimators = {n_estimators}')\n",
    "        print(f'score = {score}')\n",
    "        print()\n",
    "        \n",
    "        if criterion == 'gini':\n",
    "            scores_gini[n_estimators] = score\n",
    "        else:\n",
    "            scores_entropy[n_estimators] = score\n",
    "        \n",
    "    print('---------------------')"
   ]
  },
  {
   "cell_type": "code",
   "execution_count": 36,
   "metadata": {},
   "outputs": [
    {
     "data": {
      "text/plain": [
       "Text(0.5, 1.0, 'f1 score')"
      ]
     },
     "execution_count": 36,
     "metadata": {},
     "output_type": "execute_result"
    },
    {
     "data": {
      "image/png": "[encoded data removed]",
      "text/plain": [
       "<Figure size 432x288 with 1 Axes>"
      ]
     },
     "metadata": {
      "needs_background": "light"
     },
     "output_type": "display_data"
    }
   ],
   "source": [
    "scores_gini = pd.Series(scores_gini)\n",
    "scores_entropy = pd.Series(scores_entropy)\n",
    "scores_gini.plot()\n",
    "scores_entropy.plot()\n",
    "plt.ylabel('Score')\n",
    "plt.xlabel('max_depth')\n",
    "plt.title(\"f1 score\")"
   ]
  },
  {
   "cell_type": "code",
   "execution_count": 59,
   "metadata": {},
   "outputs": [
    {
     "data": {
      "text/plain": [
       "<joblib.parallel.parallel_backend at 0x7ff3dd83e550>"
      ]
     },
     "execution_count": 59,
     "metadata": {},
     "output_type": "execute_result"
    }
   ],
   "source": [
    "from sklearn.utils import parallel_backend\n",
    "parallel_backend('loky', n_jobs=1)"
   ]
  },
  {
   "cell_type": "markdown",
   "metadata": {},
   "source": [
    "## 2.3 Метод опорных векторов"
   ]
  },
  {
   "cell_type": "code",
   "execution_count": null,
   "metadata": {},
   "outputs": [],
   "source": [
    "from sklearn.svm import LinearSVC"
   ]
  },
  {
   "cell_type": "code",
   "execution_count": null,
   "metadata": {},
   "outputs": [],
   "source": [
    "scores_c1 = {}\n",
    "scores_c2 = {}\n",
    "scores_c3 = {}\n",
    "for max_iter in 5, 10, 100:\n",
    "    for C in 0.1, 1, 2.5, 10:\n",
    "        model = LinearSVC(C=C, max_iter=max_iter)\n",
    "        model.fit(train_X, train_Y)   \n",
    "        validate_predict = model.predict(validate_X)\n",
    "        \n",
    "        score = f1_score(validate_Y, validate_predict)\n",
    "        \n",
    "        print(f'C = {C}')\n",
    "        print(f'max_iter = {max_iter}')\n",
    "        print(f'score = {score}')\n",
    "        print()\n",
    "        \n",
    "        if C == 0.1:\n",
    "            scores_c1[max_iter] = score\n",
    "        elif C == 1:\n",
    "            scores_c2[max_iter] = score\n",
    "        else:\n",
    "            scores_c3[max_iter] = score\n",
    "        \n",
    "    print('---------------------')"
   ]
  },
  {
   "cell_type": "code",
   "execution_count": 23,
   "metadata": {},
   "outputs": [
    {
     "data": {
      "text/plain": [
       "Text(0.5, 1.0, 'f1 score')"
      ]
     },
     "execution_count": 23,
     "metadata": {},
     "output_type": "execute_result"
    },
    {
     "data": {
      "image/png": "[encoded data removed]",
      "text/plain": [
       "<Figure size 432x288 with 1 Axes>"
      ]
     },
     "metadata": {
      "needs_background": "light"
     },
     "output_type": "display_data"
    }
   ],
   "source": [
    "scores_c1 = pd.Series(scores_c1)\n",
    "scores_c2 = pd.Series(scores_c2)\n",
    "scores_c3 = pd.Series(scores_c3)\n",
    "scores_c1.plot()\n",
    "scores_c2.plot()\n",
    "scores_c3.plot()\n",
    "plt.ylabel('Score')\n",
    "plt.xlabel('max_iter')\n",
    "plt.title(\"f1 score\")"
   ]
  },
  {
   "cell_type": "code",
   "execution_count": 28,
   "metadata": {},
   "outputs": [
    {
     "name": "stdout",
     "output_type": "stream",
     "text": [
      "penalty = l1\n",
      "C = 0.1\n",
      "score = 0.7402218330414477\n",
      "\n"
     ]
    },
    {
     "name": "stderr",
     "output_type": "stream",
     "text": [
      "/Library/Frameworks/Python.framework/Versions/3.7/lib/python3.7/site-packages/sklearn/svm/_base.py:977: ConvergenceWarning: Liblinear failed to converge, increase the number of iterations.\n",
      "  \"the number of iterations.\", ConvergenceWarning)\n"
     ]
    },
    {
     "name": "stdout",
     "output_type": "stream",
     "text": [
      "penalty = l1\n",
      "C = 1\n",
      "score = 0.784221902017291\n",
      "\n",
      "penalty = l1\n",
      "C = 2.5\n",
      "score = 0.7750997052193516\n",
      "\n",
      "---------------------\n",
      "penalty = l2\n",
      "C = 0.1\n",
      "score = 0.7282500497710532\n",
      "\n",
      "penalty = l2\n",
      "C = 1\n",
      "score = 0.775487871603137\n",
      "\n",
      "penalty = l2\n",
      "C = 2.5\n",
      "score = 0.7677018633540372\n",
      "\n",
      "---------------------\n"
     ]
    }
   ],
   "source": [
    "scores_l1 = {}\n",
    "scores_l2 = {}\n",
    "for penalty in 'l1', 'l2':\n",
    "    for C in 0.1, 1, 2.5:\n",
    "        model = LinearSVC(penalty=penalty, C=C, max_iter=100, dual=False)\n",
    "        model.fit(train_X, train_Y)   \n",
    "        validate_predict = model.predict(validate_X)\n",
    "        \n",
    "        score = f1_score(validate_Y, validate_predict)\n",
    "        \n",
    "        print(f'penalty = {penalty}')\n",
    "        print(f'C = {C}')\n",
    "        print(f'score = {score}')\n",
    "        print()\n",
    "        \n",
    "        if penalty == 'l1':\n",
    "            scores_l1[C] = score\n",
    "        else:\n",
    "            scores_l2[C] = score\n",
    "        \n",
    "    print('---------------------')"
   ]
  },
  {
   "cell_type": "code",
   "execution_count": 29,
   "metadata": {},
   "outputs": [
    {
     "data": {
      "text/plain": [
       "Text(0.5, 1.0, 'f1 score')"
      ]
     },
     "execution_count": 29,
     "metadata": {},
     "output_type": "execute_result"
    },
    {
     "data": {
      "image/png": "[encoded data removed]",
      "text/plain": [
       "<Figure size 432x288 with 1 Axes>"
      ]
     },
     "metadata": {
      "needs_background": "light"
     },
     "output_type": "display_data"
    }
   ],
   "source": [
    "scores_l1 = pd.Series(scores_l1)\n",
    "scores_l2 = pd.Series(scores_l2)\n",
    "scores_l1.plot()\n",
    "scores_l2.plot()\n",
    "plt.ylabel('Score')\n",
    "plt.xlabel('C')\n",
    "plt.title(\"f1 score\")"
   ]
  },
  {
   "cell_type": "code",
   "execution_count": null,
   "metadata": {},
   "outputs": [],
   "source": []
  }
 ],
 "metadata": {
  "kernelspec": {
   "display_name": "Python 3",
   "language": "python",
   "name": "python3"
  },
  "language_info": {
   "codemirror_mode": {
    "name": "ipython",
    "version": 3
   },
   "file_extension": ".py",
   "mimetype": "text/x-python",
   "name": "python",
   "nbconvert_exporter": "python",
   "pygments_lexer": "ipython3",
   "version": "3.7.7"
  }
 },
 "nbformat": 4,
 "nbformat_minor": 4
}
